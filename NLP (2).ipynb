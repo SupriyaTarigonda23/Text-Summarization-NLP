{
  "nbformat": 4,
  "nbformat_minor": 0,
  "metadata": {
    "colab": {
      "name": "NLP.ipynb",
      "provenance": [],
      "collapsed_sections": []
    },
    "kernelspec": {
      "name": "python3",
      "display_name": "Python 3"
    },
    "language_info": {
      "name": "python"
    }
  },
  "cells": [
    {
      "cell_type": "code",
      "metadata": {
        "id": "3Ab0Cjpy2_pE"
      },
      "source": [
        "import numpy as np\n",
        "import pandas as pd\n",
        "import nltk"
      ],
      "execution_count": 1,
      "outputs": []
    },
    {
      "cell_type": "code",
      "metadata": {
        "colab": {
          "base_uri": "https://localhost:8080/",
          "height": 203
        },
        "id": "aV4FSYci3Qi3",
        "outputId": "1987e344-ef4d-4bec-8d9a-d84873028cb6"
      },
      "source": [
        "df = pd.read_csv(\"tennis_articles_v4.csv\")\n",
        "df.head()"
      ],
      "execution_count": 3,
      "outputs": [
        {
          "output_type": "execute_result",
          "data": {
            "text/html": [
              "<div>\n",
              "<style scoped>\n",
              "    .dataframe tbody tr th:only-of-type {\n",
              "        vertical-align: middle;\n",
              "    }\n",
              "\n",
              "    .dataframe tbody tr th {\n",
              "        vertical-align: top;\n",
              "    }\n",
              "\n",
              "    .dataframe thead th {\n",
              "        text-align: right;\n",
              "    }\n",
              "</style>\n",
              "<table border=\"1\" class=\"dataframe\">\n",
              "  <thead>\n",
              "    <tr style=\"text-align: right;\">\n",
              "      <th></th>\n",
              "      <th>article_id</th>\n",
              "      <th>article_text</th>\n",
              "      <th>source</th>\n",
              "    </tr>\n",
              "  </thead>\n",
              "  <tbody>\n",
              "    <tr>\n",
              "      <th>0</th>\n",
              "      <td>1</td>\n",
              "      <td>Maria Sharapova has basically no friends as te...</td>\n",
              "      <td>https://www.tennisworldusa.org/tennis/news/Mar...</td>\n",
              "    </tr>\n",
              "    <tr>\n",
              "      <th>1</th>\n",
              "      <td>2</td>\n",
              "      <td>BASEL, Switzerland (AP), Roger Federer advance...</td>\n",
              "      <td>http://www.tennis.com/pro-game/2018/10/copil-s...</td>\n",
              "    </tr>\n",
              "    <tr>\n",
              "      <th>2</th>\n",
              "      <td>3</td>\n",
              "      <td>Roger Federer has revealed that organisers of ...</td>\n",
              "      <td>https://scroll.in/field/899938/tennis-roger-fe...</td>\n",
              "    </tr>\n",
              "    <tr>\n",
              "      <th>3</th>\n",
              "      <td>4</td>\n",
              "      <td>Kei Nishikori will try to end his long losing ...</td>\n",
              "      <td>http://www.tennis.com/pro-game/2018/10/nishiko...</td>\n",
              "    </tr>\n",
              "    <tr>\n",
              "      <th>4</th>\n",
              "      <td>5</td>\n",
              "      <td>Federer, 37, first broke through on tour over ...</td>\n",
              "      <td>https://www.express.co.uk/sport/tennis/1036101...</td>\n",
              "    </tr>\n",
              "  </tbody>\n",
              "</table>\n",
              "</div>"
            ],
            "text/plain": [
              "   article_id  ...                                             source\n",
              "0           1  ...  https://www.tennisworldusa.org/tennis/news/Mar...\n",
              "1           2  ...  http://www.tennis.com/pro-game/2018/10/copil-s...\n",
              "2           3  ...  https://scroll.in/field/899938/tennis-roger-fe...\n",
              "3           4  ...  http://www.tennis.com/pro-game/2018/10/nishiko...\n",
              "4           5  ...  https://www.express.co.uk/sport/tennis/1036101...\n",
              "\n",
              "[5 rows x 3 columns]"
            ]
          },
          "metadata": {},
          "execution_count": 3
        }
      ]
    },
    {
      "cell_type": "code",
      "metadata": {
        "colab": {
          "base_uri": "https://localhost:8080/",
          "height": 120
        },
        "id": "V6LAZrBm3fCW",
        "outputId": "57182f5f-160c-47d3-df6b-629c4ea6106c"
      },
      "source": [
        "df['article_text'][0]\n"
      ],
      "execution_count": 4,
      "outputs": [
        {
          "output_type": "execute_result",
          "data": {
            "application/vnd.google.colaboratory.intrinsic+json": {
              "type": "string"
            },
            "text/plain": [
              "\"Maria Sharapova has basically no friends as tennis players on the WTA Tour. The Russian player has no problems in openly speaking about it and in a recent interview she said: 'I don't really hide any feelings too much. I think everyone knows this is my job here. When I'm on the courts or when I'm on the court playing, I'm a competitor and I want to beat every single person whether they're in the locker room or across the net.So I'm not the one to strike up a conversation about the weather and know that in the next few minutes I have to go and try to win a tennis match. I'm a pretty competitive girl. I say my hellos, but I'm not sending any players flowers as well. Uhm, I'm not really friendly or close to many players. I have not a lot of friends away from the courts.' When she said she is not really close to a lot of players, is that something strategic that she is doing? Is it different on the men's tour than the women's tour? 'No, not at all. I think just because you're in the same sport doesn't mean that you have to be friends with everyone just because you're categorized, you're a tennis player, so you're going to get along with tennis players. I think every person has different interests. I have friends that have completely different jobs and interests, and I've met them in very different parts of my life. I think everyone just thinks because we're tennis players we should be the greatest of friends. But ultimately tennis is just a very small part of what we do. There are so many other things that we're interested in, that we do.'\""
            ]
          },
          "metadata": {},
          "execution_count": 4
        }
      ]
    },
    {
      "cell_type": "code",
      "metadata": {
        "colab": {
          "base_uri": "https://localhost:8080/",
          "height": 120
        },
        "id": "KbQfY_hS3jm4",
        "outputId": "eef494cb-93e7-4802-d069-0522caa90dc9"
      },
      "source": [
        "df['article_text'][1]\n"
      ],
      "execution_count": 5,
      "outputs": [
        {
          "output_type": "execute_result",
          "data": {
            "application/vnd.google.colaboratory.intrinsic+json": {
              "type": "string"
            },
            "text/plain": [
              "\"BASEL, Switzerland (AP), Roger Federer advanced to the 14th Swiss Indoors final of his career by beating seventh-seeded Daniil Medvedev 6-1, 6-4 on Saturday. Seeking a ninth title at his hometown event, and a 99th overall, Federer will play 93th-ranked Marius Copil on Sunday. Federer dominated the 20th-ranked Medvedev and had his first match-point chance to break serve again at 5-1. He then dropped his serve to love, and let another match point slip in Medvedev's next service game by netting a backhand. He clinched on his fourth chance when Medvedev netted from the baseline. Copil upset expectations of a Federer final against Alexander Zverev in a 6-3, 6-7 (6), 6-4 win over the fifth-ranked German in the earlier semifinal. The Romanian aims for a first title after arriving at Basel without a career win over a top-10 opponent. Copil has two after also beating No. 6 Marin Cilic in the second round. Copil fired 26 aces past Zverev and never dropped serve, clinching after 2 1/2 hours with a forehand volley winner to break Zverev for the second time in the semifinal. He came through two rounds of qualifying last weekend to reach the Basel main draw, including beating Zverev's older brother, Mischa. Federer had an easier time than in his only previous match against Medvedev, a three-setter at Shanghai two weeks ago.\""
            ]
          },
          "metadata": {},
          "execution_count": 5
        }
      ]
    },
    {
      "cell_type": "code",
      "metadata": {
        "colab": {
          "base_uri": "https://localhost:8080/",
          "height": 120
        },
        "id": "LpoZrT4r3mUg",
        "outputId": "3209791f-6e60-4c8f-a2de-f9aa0e990165"
      },
      "source": [
        "df['article_text'][2]\n"
      ],
      "execution_count": 6,
      "outputs": [
        {
          "output_type": "execute_result",
          "data": {
            "application/vnd.google.colaboratory.intrinsic+json": {
              "type": "string"
            },
            "text/plain": [
              "'Roger Federer has revealed that organisers of the re-launched and condensed Davis Cup gave him three days to decide if he would commit to the controversial competition. Speaking at the Swiss Indoors tournament where he will play in Sundays final against Romanian qualifier Marius Copil, the world number three said that given the impossibly short time frame to make a decision, he opted out of any commitment. \"They only left me three days to decide\", Federer said. \"I didn\\'t to have time to consult with all the people I had to consult. \"I could not make a decision in that time, so I told them to do what they wanted.\" The 20-time Grand Slam champion has voiced doubts about the wisdom of the one-week format to be introduced by organisers Kosmos, who have promised the International Tennis Federation up to $3 billion in prize money over the next quarter-century. The competition is set to feature 18 countries in the November 18-24 finals in Madrid next year, and will replace the classic home-and-away ties played four times per year for decades. Kosmos is headed by Barcelona footballer Gerard Pique, who is hoping fellow Spaniard Rafael Nadal will play in the upcoming event. Novak Djokovic has said he will give precedence to the ATP\\'s intended re-launch of the defunct World Team Cup in January 2020, at various Australian venues. Major players feel that a big event in late November combined with one in January before the Australian Open will mean too much tennis and too little rest. Federer said earlier this month in Shanghai in that his chances of playing the Davis Cup were all but non-existent. \"I highly doubt it, of course. We will see what happens,\" he said. \"I do not think this was designed for me, anyhow. This was designed for the future generation of players.\" Argentina and Britain received wild cards to the new-look event, and will compete along with the four 2018 semi-finalists and the 12 teams who win qualifying rounds next February. \"I don\\'t like being under that kind of pressure,\" Federer said of the deadline Kosmos handed him.'"
            ]
          },
          "metadata": {},
          "execution_count": 6
        }
      ]
    },
    {
      "cell_type": "code",
      "metadata": {
        "colab": {
          "base_uri": "https://localhost:8080/",
          "height": 656
        },
        "id": "0aMCY2e_3wbW",
        "outputId": "1c23ea8b-eeef-40c3-f878-447355c0e1dd"
      },
      "source": [
        "from nltk.tokenize import sent_tokenize\n",
        "sentences=[]\n",
        "for s in df['article_text']:sentences.append(sent_tokenize(s))\n",
        "sentences = [y for x in sentences for y in x] # flatten list\n",
        "sentences[:5]"
      ],
      "execution_count": 9,
      "outputs": [
        {
          "output_type": "error",
          "ename": "LookupError",
          "evalue": "ignored",
          "traceback": [
            "\u001b[0;31m---------------------------------------------------------------------------\u001b[0m",
            "\u001b[0;31mLookupError\u001b[0m                               Traceback (most recent call last)",
            "\u001b[0;32m<ipython-input-9-32c4be213be6>\u001b[0m in \u001b[0;36m<module>\u001b[0;34m()\u001b[0m\n\u001b[1;32m      1\u001b[0m \u001b[0;32mfrom\u001b[0m \u001b[0mnltk\u001b[0m\u001b[0;34m.\u001b[0m\u001b[0mtokenize\u001b[0m \u001b[0;32mimport\u001b[0m \u001b[0msent_tokenize\u001b[0m\u001b[0;34m\u001b[0m\u001b[0;34m\u001b[0m\u001b[0m\n\u001b[1;32m      2\u001b[0m \u001b[0msentences\u001b[0m\u001b[0;34m=\u001b[0m\u001b[0;34m[\u001b[0m\u001b[0;34m]\u001b[0m\u001b[0;34m\u001b[0m\u001b[0;34m\u001b[0m\u001b[0m\n\u001b[0;32m----> 3\u001b[0;31m \u001b[0;32mfor\u001b[0m \u001b[0ms\u001b[0m \u001b[0;32min\u001b[0m \u001b[0mdf\u001b[0m\u001b[0;34m[\u001b[0m\u001b[0;34m'article_text'\u001b[0m\u001b[0;34m]\u001b[0m\u001b[0;34m:\u001b[0m\u001b[0msentences\u001b[0m\u001b[0;34m.\u001b[0m\u001b[0mappend\u001b[0m\u001b[0;34m(\u001b[0m\u001b[0msent_tokenize\u001b[0m\u001b[0;34m(\u001b[0m\u001b[0ms\u001b[0m\u001b[0;34m)\u001b[0m\u001b[0;34m)\u001b[0m\u001b[0;34m\u001b[0m\u001b[0;34m\u001b[0m\u001b[0m\n\u001b[0m\u001b[1;32m      4\u001b[0m \u001b[0msentences\u001b[0m \u001b[0;34m=\u001b[0m \u001b[0;34m[\u001b[0m\u001b[0my\u001b[0m \u001b[0;32mfor\u001b[0m \u001b[0mx\u001b[0m \u001b[0;32min\u001b[0m \u001b[0msentences\u001b[0m \u001b[0;32mfor\u001b[0m \u001b[0my\u001b[0m \u001b[0;32min\u001b[0m \u001b[0mx\u001b[0m\u001b[0;34m]\u001b[0m \u001b[0;31m# flatten list\u001b[0m\u001b[0;34m\u001b[0m\u001b[0;34m\u001b[0m\u001b[0m\n\u001b[1;32m      5\u001b[0m \u001b[0msentences\u001b[0m\u001b[0;34m[\u001b[0m\u001b[0;34m:\u001b[0m\u001b[0;36m5\u001b[0m\u001b[0;34m]\u001b[0m\u001b[0;34m\u001b[0m\u001b[0;34m\u001b[0m\u001b[0m\n",
            "\u001b[0;32m/usr/local/lib/python3.7/dist-packages/nltk/tokenize/__init__.py\u001b[0m in \u001b[0;36msent_tokenize\u001b[0;34m(text, language)\u001b[0m\n\u001b[1;32m     92\u001b[0m     \u001b[0;34m:\u001b[0m\u001b[0mparam\u001b[0m \u001b[0mlanguage\u001b[0m\u001b[0;34m:\u001b[0m \u001b[0mthe\u001b[0m \u001b[0mmodel\u001b[0m \u001b[0mname\u001b[0m \u001b[0;32min\u001b[0m \u001b[0mthe\u001b[0m \u001b[0mPunkt\u001b[0m \u001b[0mcorpus\u001b[0m\u001b[0;34m\u001b[0m\u001b[0;34m\u001b[0m\u001b[0m\n\u001b[1;32m     93\u001b[0m     \"\"\"\n\u001b[0;32m---> 94\u001b[0;31m     \u001b[0mtokenizer\u001b[0m \u001b[0;34m=\u001b[0m \u001b[0mload\u001b[0m\u001b[0;34m(\u001b[0m\u001b[0;34m'tokenizers/punkt/{0}.pickle'\u001b[0m\u001b[0;34m.\u001b[0m\u001b[0mformat\u001b[0m\u001b[0;34m(\u001b[0m\u001b[0mlanguage\u001b[0m\u001b[0;34m)\u001b[0m\u001b[0;34m)\u001b[0m\u001b[0;34m\u001b[0m\u001b[0;34m\u001b[0m\u001b[0m\n\u001b[0m\u001b[1;32m     95\u001b[0m     \u001b[0;32mreturn\u001b[0m \u001b[0mtokenizer\u001b[0m\u001b[0;34m.\u001b[0m\u001b[0mtokenize\u001b[0m\u001b[0;34m(\u001b[0m\u001b[0mtext\u001b[0m\u001b[0;34m)\u001b[0m\u001b[0;34m\u001b[0m\u001b[0;34m\u001b[0m\u001b[0m\n\u001b[1;32m     96\u001b[0m \u001b[0;34m\u001b[0m\u001b[0m\n",
            "\u001b[0;32m/usr/local/lib/python3.7/dist-packages/nltk/data.py\u001b[0m in \u001b[0;36mload\u001b[0;34m(resource_url, format, cache, verbose, logic_parser, fstruct_reader, encoding)\u001b[0m\n\u001b[1;32m    832\u001b[0m \u001b[0;34m\u001b[0m\u001b[0m\n\u001b[1;32m    833\u001b[0m     \u001b[0;31m# Load the resource.\u001b[0m\u001b[0;34m\u001b[0m\u001b[0;34m\u001b[0m\u001b[0;34m\u001b[0m\u001b[0m\n\u001b[0;32m--> 834\u001b[0;31m     \u001b[0mopened_resource\u001b[0m \u001b[0;34m=\u001b[0m \u001b[0m_open\u001b[0m\u001b[0;34m(\u001b[0m\u001b[0mresource_url\u001b[0m\u001b[0;34m)\u001b[0m\u001b[0;34m\u001b[0m\u001b[0;34m\u001b[0m\u001b[0m\n\u001b[0m\u001b[1;32m    835\u001b[0m \u001b[0;34m\u001b[0m\u001b[0m\n\u001b[1;32m    836\u001b[0m     \u001b[0;32mif\u001b[0m \u001b[0mformat\u001b[0m \u001b[0;34m==\u001b[0m \u001b[0;34m'raw'\u001b[0m\u001b[0;34m:\u001b[0m\u001b[0;34m\u001b[0m\u001b[0;34m\u001b[0m\u001b[0m\n",
            "\u001b[0;32m/usr/local/lib/python3.7/dist-packages/nltk/data.py\u001b[0m in \u001b[0;36m_open\u001b[0;34m(resource_url)\u001b[0m\n\u001b[1;32m    950\u001b[0m \u001b[0;34m\u001b[0m\u001b[0m\n\u001b[1;32m    951\u001b[0m     \u001b[0;32mif\u001b[0m \u001b[0mprotocol\u001b[0m \u001b[0;32mis\u001b[0m \u001b[0;32mNone\u001b[0m \u001b[0;32mor\u001b[0m \u001b[0mprotocol\u001b[0m\u001b[0;34m.\u001b[0m\u001b[0mlower\u001b[0m\u001b[0;34m(\u001b[0m\u001b[0;34m)\u001b[0m \u001b[0;34m==\u001b[0m \u001b[0;34m'nltk'\u001b[0m\u001b[0;34m:\u001b[0m\u001b[0;34m\u001b[0m\u001b[0;34m\u001b[0m\u001b[0m\n\u001b[0;32m--> 952\u001b[0;31m         \u001b[0;32mreturn\u001b[0m \u001b[0mfind\u001b[0m\u001b[0;34m(\u001b[0m\u001b[0mpath_\u001b[0m\u001b[0;34m,\u001b[0m \u001b[0mpath\u001b[0m \u001b[0;34m+\u001b[0m \u001b[0;34m[\u001b[0m\u001b[0;34m''\u001b[0m\u001b[0;34m]\u001b[0m\u001b[0;34m)\u001b[0m\u001b[0;34m.\u001b[0m\u001b[0mopen\u001b[0m\u001b[0;34m(\u001b[0m\u001b[0;34m)\u001b[0m\u001b[0;34m\u001b[0m\u001b[0;34m\u001b[0m\u001b[0m\n\u001b[0m\u001b[1;32m    953\u001b[0m     \u001b[0;32melif\u001b[0m \u001b[0mprotocol\u001b[0m\u001b[0;34m.\u001b[0m\u001b[0mlower\u001b[0m\u001b[0;34m(\u001b[0m\u001b[0;34m)\u001b[0m \u001b[0;34m==\u001b[0m \u001b[0;34m'file'\u001b[0m\u001b[0;34m:\u001b[0m\u001b[0;34m\u001b[0m\u001b[0;34m\u001b[0m\u001b[0m\n\u001b[1;32m    954\u001b[0m         \u001b[0;31m# urllib might not use mode='rb', so handle this one ourselves:\u001b[0m\u001b[0;34m\u001b[0m\u001b[0;34m\u001b[0m\u001b[0;34m\u001b[0m\u001b[0m\n",
            "\u001b[0;32m/usr/local/lib/python3.7/dist-packages/nltk/data.py\u001b[0m in \u001b[0;36mfind\u001b[0;34m(resource_name, paths)\u001b[0m\n\u001b[1;32m    671\u001b[0m     \u001b[0msep\u001b[0m \u001b[0;34m=\u001b[0m \u001b[0;34m'*'\u001b[0m \u001b[0;34m*\u001b[0m \u001b[0;36m70\u001b[0m\u001b[0;34m\u001b[0m\u001b[0;34m\u001b[0m\u001b[0m\n\u001b[1;32m    672\u001b[0m     \u001b[0mresource_not_found\u001b[0m \u001b[0;34m=\u001b[0m \u001b[0;34m'\\n%s\\n%s\\n%s\\n'\u001b[0m \u001b[0;34m%\u001b[0m \u001b[0;34m(\u001b[0m\u001b[0msep\u001b[0m\u001b[0;34m,\u001b[0m \u001b[0mmsg\u001b[0m\u001b[0;34m,\u001b[0m \u001b[0msep\u001b[0m\u001b[0;34m)\u001b[0m\u001b[0;34m\u001b[0m\u001b[0;34m\u001b[0m\u001b[0m\n\u001b[0;32m--> 673\u001b[0;31m     \u001b[0;32mraise\u001b[0m \u001b[0mLookupError\u001b[0m\u001b[0;34m(\u001b[0m\u001b[0mresource_not_found\u001b[0m\u001b[0;34m)\u001b[0m\u001b[0;34m\u001b[0m\u001b[0;34m\u001b[0m\u001b[0m\n\u001b[0m\u001b[1;32m    674\u001b[0m \u001b[0;34m\u001b[0m\u001b[0m\n\u001b[1;32m    675\u001b[0m \u001b[0;34m\u001b[0m\u001b[0m\n",
            "\u001b[0;31mLookupError\u001b[0m: \n**********************************************************************\n  Resource \u001b[93mpunkt\u001b[0m not found.\n  Please use the NLTK Downloader to obtain the resource:\n\n  \u001b[31m>>> import nltk\n  >>> nltk.download('punkt')\n  \u001b[0m\n  Searched in:\n    - '/root/nltk_data'\n    - '/usr/share/nltk_data'\n    - '/usr/local/share/nltk_data'\n    - '/usr/lib/nltk_data'\n    - '/usr/local/lib/nltk_data'\n    - '/usr/nltk_data'\n    - '/usr/lib/nltk_data'\n    - ''\n**********************************************************************\n"
          ]
        }
      ]
    },
    {
      "cell_type": "code",
      "metadata": {
        "colab": {
          "base_uri": "https://localhost:8080/"
        },
        "id": "RgVO0Vpw8Me7",
        "outputId": "d62ead19-25cd-4101-9d15-f41da443e41a"
      },
      "source": [
        "word_embeddings"
      ],
      "execution_count": null,
      "outputs": [
        {
          "output_type": "execute_result",
          "data": {
            "text/plain": [
              "{'sandberger': array([ 0.28365  , -0.6263   , -0.44351  ,  0.2177   , -0.087421 ,\n",
              "        -0.17062  ,  0.29266  , -0.024899 ,  0.26414  , -0.17023  ,\n",
              "         0.25817  ,  0.097484 , -0.33103  , -0.43859  ,  0.0095799,\n",
              "         0.095624 , -0.17777  ,  0.38886  ,  0.27151  ,  0.14742  ,\n",
              "        -0.43973  , -0.26588  , -0.024271 ,  0.27186  , -0.36761  ,\n",
              "        -0.24827  , -0.20815  ,  0.22128  , -0.044409 ,  0.021373 ,\n",
              "         0.24594  ,  0.26143  ,  0.29303  ,  0.13281  ,  0.082232 ,\n",
              "        -0.12869  ,  0.1622   , -0.22567  , -0.060348 ,  0.28703  ,\n",
              "         0.11381  ,  0.34839  ,  0.3419   ,  0.36996  , -0.13592  ,\n",
              "         0.0062694,  0.080317 ,  0.0036251,  0.43093  ,  0.01882  ,\n",
              "         0.31008  ,  0.16722  ,  0.074112 , -0.37745  ,  0.47363  ,\n",
              "         0.41284  ,  0.24471  ,  0.075965 , -0.51725  , -0.49481  ,\n",
              "         0.526    , -0.074645 ,  0.41434  , -0.1956   , -0.16544  ,\n",
              "        -0.045649 , -0.40153  , -0.13136  , -0.4672   ,  0.18825  ,\n",
              "         0.2612   ,  0.16854  ,  0.22615  ,  0.62992  , -0.1288   ,\n",
              "         0.055841 ,  0.01928  ,  0.024572 ,  0.46875  ,  0.2582   ,\n",
              "        -0.31672  ,  0.048591 ,  0.3277   , -0.50141  ,  0.30855  ,\n",
              "         0.11997  , -0.25768  , -0.039867 , -0.059672 ,  0.5525   ,\n",
              "         0.13885  , -0.22862  ,  0.071792 , -0.43208  ,  0.5398   ,\n",
              "        -0.085806 ,  0.032651 ,  0.43678  , -0.82607  , -0.15701  ],\n",
              "       dtype=float32)}"
            ]
          },
          "metadata": {},
          "execution_count": 11
        }
      ]
    },
    {
      "cell_type": "code",
      "metadata": {
        "colab": {
          "base_uri": "https://localhost:8080/"
        },
        "id": "pBGVu6x38ptS",
        "outputId": "9bdd3f63-3a36-4db7-bd46-ab5046d38d44"
      },
      "source": [
        "sentences"
      ],
      "execution_count": null,
      "outputs": [
        {
          "output_type": "execute_result",
          "data": {
            "text/plain": [
              "['Maria Sharapova has basically no friends as tennis players on the WTA Tour.',\n",
              " \"The Russian player has no problems in openly speaking about it and in a recent interview she said: 'I don't really hide any feelings too much.\",\n",
              " 'I think everyone knows this is my job here.',\n",
              " \"When I'm on the courts or when I'm on the court playing, I'm a competitor and I want to beat every single person whether they're in the locker room or across the net.So I'm not the one to strike up a conversation about the weather and know that in the next few minutes I have to go and try to win a tennis match.\",\n",
              " \"I'm a pretty competitive girl.\",\n",
              " \"I say my hellos, but I'm not sending any players flowers as well.\",\n",
              " \"Uhm, I'm not really friendly or close to many players.\",\n",
              " \"I have not a lot of friends away from the courts.'\",\n",
              " 'When she said she is not really close to a lot of players, is that something strategic that she is doing?',\n",
              " \"Is it different on the men's tour than the women's tour?\",\n",
              " \"'No, not at all.\",\n",
              " \"I think just because you're in the same sport doesn't mean that you have to be friends with everyone just because you're categorized, you're a tennis player, so you're going to get along with tennis players.\",\n",
              " 'I think every person has different interests.',\n",
              " \"I have friends that have completely different jobs and interests, and I've met them in very different parts of my life.\",\n",
              " \"I think everyone just thinks because we're tennis players we should be the greatest of friends.\",\n",
              " 'But ultimately tennis is just a very small part of what we do.',\n",
              " \"There are so many other things that we're interested in, that we do.'\",\n",
              " 'BASEL, Switzerland (AP), Roger Federer advanced to the 14th Swiss Indoors final of his career by beating seventh-seeded Daniil Medvedev 6-1, 6-4 on Saturday.',\n",
              " 'Seeking a ninth title at his hometown event, and a 99th overall, Federer will play 93th-ranked Marius Copil on Sunday.',\n",
              " 'Federer dominated the 20th-ranked Medvedev and had his first match-point chance to break serve again at 5-1.',\n",
              " \"He then dropped his serve to love, and let another match point slip in Medvedev's next service game by netting a backhand.\",\n",
              " 'He clinched on his fourth chance when Medvedev netted from the baseline.',\n",
              " 'Copil upset expectations of a Federer final against Alexander Zverev in a 6-3, 6-7 (6), 6-4 win over the fifth-ranked German in the earlier semifinal.',\n",
              " 'The Romanian aims for a first title after arriving at Basel without a career win over a top-10 opponent.',\n",
              " 'Copil has two after also beating No.',\n",
              " '6 Marin Cilic in the second round.',\n",
              " 'Copil fired 26 aces past Zverev and never dropped serve, clinching after 2 1/2 hours with a forehand volley winner to break Zverev for the second time in the semifinal.',\n",
              " \"He came through two rounds of qualifying last weekend to reach the Basel main draw, including beating Zverev's older brother, Mischa.\",\n",
              " 'Federer had an easier time than in his only previous match against Medvedev, a three-setter at Shanghai two weeks ago.',\n",
              " 'Roger Federer has revealed that organisers of the re-launched and condensed Davis Cup gave him three days to decide if he would commit to the controversial competition.',\n",
              " 'Speaking at the Swiss Indoors tournament where he will play in Sundays final against Romanian qualifier Marius Copil, the world number three said that given the impossibly short time frame to make a decision, he opted out of any commitment.',\n",
              " '\"They only left me three days to decide\", Federer said.',\n",
              " '\"I didn\\'t to have time to consult with all the people I had to consult.',\n",
              " '\"I could not make a decision in that time, so I told them to do what they wanted.\"',\n",
              " 'The 20-time Grand Slam champion has voiced doubts about the wisdom of the one-week format to be introduced by organisers Kosmos, who have promised the International Tennis Federation up to $3 billion in prize money over the next quarter-century.',\n",
              " 'The competition is set to feature 18 countries in the November 18-24 finals in Madrid next year, and will replace the classic home-and-away ties played four times per year for decades.',\n",
              " 'Kosmos is headed by Barcelona footballer Gerard Pique, who is hoping fellow Spaniard Rafael Nadal will play in the upcoming event.',\n",
              " \"Novak Djokovic has said he will give precedence to the ATP's intended re-launch of the defunct World Team Cup in January 2020, at various Australian venues.\",\n",
              " 'Major players feel that a big event in late November combined with one in January before the Australian Open will mean too much tennis and too little rest.',\n",
              " 'Federer said earlier this month in Shanghai in that his chances of playing the Davis Cup were all but non-existent.',\n",
              " '\"I highly doubt it, of course.',\n",
              " 'We will see what happens,\" he said.',\n",
              " '\"I do not think this was designed for me, anyhow.',\n",
              " 'This was designed for the future generation of players.\"',\n",
              " 'Argentina and Britain received wild cards to the new-look event, and will compete along with the four 2018 semi-finalists and the 12 teams who win qualifying rounds next February.',\n",
              " '\"I don\\'t like being under that kind of pressure,\" Federer said of the deadline Kosmos handed him.',\n",
              " 'Kei Nishikori will try to end his long losing streak in ATP finals and Kevin Anderson will go for his second title of the year at the Erste Bank Open on Sunday.',\n",
              " 'The fifth-seeded Nishikori reached his third final of 2018 after beating Mikhail Kukushkin of Kazakhstan 6-4, 6-3 in the semifinals.',\n",
              " \"A winner of 11 ATP events, Nishikori hasn't triumphed since winning in Memphis in February 2016.\",\n",
              " 'He has lost eight straight finals since.',\n",
              " 'The second-seeded Anderson defeated Fernando Verdasco 6-3, 3-6, 6-4.',\n",
              " 'Anderson has a shot at a fifth career title and second of the year after winning in New York in February.',\n",
              " 'Nishikori leads Anderson 4-2 on career matchups, but the South African won their only previous meeting this year.',\n",
              " 'With a victory on Sunday, Anderson will qualify for the ATP Finals.',\n",
              " 'Currently in ninth place, Nishikori with a win could move to within 125 points of the cut for the eight-man event in London next month.',\n",
              " 'Nishikori held serve throughout against Kukushkin, who came through qualifying.',\n",
              " 'He used his first break point to close out the first set before going up 3-0 in the second and wrapping up the win on his first match point.',\n",
              " 'Against Verdasco, Anderson hit nine of his 19 aces in the opening set.',\n",
              " \"The Spaniard broke Anderson twice in the second but didn't get another chance on the South African's serve in the final set.\",\n",
              " 'Federer, 37, first broke through on tour over two decades ago and he has since gone on to enjoy a glittering career.',\n",
              " 'The 20-time Grand Slam winner is chasing his 99th ATP title at the Swiss Indoors this week and he faces Jan-Lennard Struff in the second round on Thursday (6pm BST).',\n",
              " 'Davenport enjoyed most of her success in the late 1990s and her third and final major tournament win came at the 2000 Australian Open.',\n",
              " 'But she claims the mentality of professional tennis players slowly began to change after the new millennium.',\n",
              " '\"It seems pretty friendly right now,\" said Davenport.',\n",
              " '\"I think there is a really nice environment and a great atmosphere, especially between some of the veteran players helping some of the younger players out.',\n",
              " '\"It\\'s a very pleasant atmosphere, I\\'d have to say, around the locker rooms.',\n",
              " '\"I felt like the best weeks that I had to get to know players when I was playing were the Fed Cup weeks or the Olympic weeks, not necessarily during the tournaments.',\n",
              " '\"And even though maybe we had smaller teams, I still think we kept to ourselves quite a bit.',\n",
              " '\"Not always, but I really feel like in the mid-2000 years there was a huge shift of the attitudes of the top players and being more friendly and being more giving, and a lot of that had to do with players like Roger coming up.',\n",
              " '\"I just felt like it really kind of changed where people were a little bit, definitely in the 90s, a lot more quiet, into themselves, and then it started to become better.\"',\n",
              " 'Meanwhile, Federer is hoping he can improve his service game as he hunts his ninth Swiss Indoors title this week.',\n",
              " '\"I didn\\'t serve very well [against first-round opponent Filip Kranjovic,\" Federer said.',\n",
              " '\"I think I was misfiring the corners, I was not hitting the lines enough.',\n",
              " '\"Clearly you make your life more difficult, but still I was up 6-2, 3-1, break points, so things could have ended very quickly today, even though I didn\\'t have the best serve percentage stats.',\n",
              " '\"But maybe that\\'s exactly what caught up to me eventually.',\n",
              " \"It's just getting used to it.\",\n",
              " 'This is where the first rounds can be tricky.\"',\n",
              " 'Nadal has not played tennis since he was forced to retire from the US Open semi-finals against Juan Martin Del Porto with a knee injury.',\n",
              " \"The world No 1 has been forced to miss Spain's Davis Cup clash with France and the Asian hard court season.\",\n",
              " 'But with the ATP World Tour Finals due to begin next month, Nadal is ready to prove his fitness before the season-ending event at the 02 Arena.',\n",
              " 'Nadal flew to Paris on Friday and footage from the Paris Masters official Twitter account shows the Spaniard smiling as he strides onto court for practice.',\n",
              " 'The Paris Masters draw has been made and Nadal will start his campaign on Tuesday or Wednesday against either Fernando Verdasco or Jeremy Chardy.',\n",
              " 'Nadal could then play defending champion Jack Sock in the third round before a potential quarter-final with either Borna Coric or Dominic Thiem.',\n",
              " \"Nadal's appearance in Paris is a big boost to the tournament organisers who could see Roger Federer withdraw.\",\n",
              " 'Federer is in action at the Swiss Indoors in Basel and if he reaches the final, he could pull out of Paris in a bid to stay fresh for London.',\n",
              " 'But as it stands, Federer is in the draw and is scheduled to face either former world No 3 Milos Raonic or Jo-Wilfried Tsonga in the second round.',\n",
              " \"Federer's projected route to the Paris final could also lead to matches against Kevin Anderson and Novak Djokovic.\",\n",
              " 'Djokovic could play Marco Cecchinato in the second round.',\n",
              " 'British No 1 Kyle Edmund is the 12th seed in Paris and will get underway in round two against either Karen Khachanov or Filip Krajinovic.',\n",
              " 'Tennis giveth, and tennis taketh away.',\n",
              " 'The end of the season is finally in sight, and with so many players defending,or losing,huge chunks of points in Singapore, Zhuhai and London, podcast co-hosts Nina Pantic and Irina Falconi discuss the art of defending points (02:14).',\n",
              " \"It's no secret that Jack Sock has struggled on the singles court this year (his record is 7-19).\",\n",
              " 'He could lose 1,400 points in the next few weeks, but instead of focusing on the negative, it can all be about perspective (06:28).',\n",
              " \"Let's also not forget his two Grand Slam doubles triumphs this season.\",\n",
              " 'Two players, Stefanos Tsitsipas and Kyle Edmund, won their first career ATP titles last week (13:26).',\n",
              " \"It's a big deal because you never forget your first.\",\n",
              " 'Irina looks back at her WTA title win in Bogota in 2016, and tells an unforgettable story about her semifinal drama (14:04).',\n",
              " 'In Singapore, one of the biggest storylines (aside from the matches, of course) has been the on-court coaching debate.',\n",
              " 'Nina and Irina give their opinions on what coaching should look like in the future, on both tours (18:55).',\n",
              " 'Federer won the Swiss Indoors last week by beating Romanian qualifier Marius Copil in the final.',\n",
              " 'The 37-year-old claimed his 99th ATP title and is hunting the century in the French capital this week.',\n",
              " 'Federer has been handed a difficult draw where could could come across Kevin Anderson, Novak Djokovic and Rafael Nadal in the latter rounds.',\n",
              " 'But first the 20-time Grand Slam winner wants to train on the Paris Masters court this afternoon before deciding whether to appear for his opening match against either Milos Raonic or Jo-Wilfried Tsonga.',\n",
              " '\"On Monday, I am free and will look how I feel,\" Federer said after winning the Swiss Indoors.',\n",
              " '\"On Tuesday I will fly to Paris and train in the afternoon to be ready for my first match on Wednesday night.',\n",
              " '\"I felt good all week and better every day.',\n",
              " '\"We also had the impression that at this stage it might be better to play matches than to train.',\n",
              " '\"And as long as I fear no injury, I play.\"',\n",
              " \"Federer's success in Basel last week was the ninth time he has won his hometown tournament.\",\n",
              " 'And he was delighted to be watched on by all of his family and friends as he purchased 60 tickets for the final for those dearest to him.',\n",
              " '\"My children, my parents, my sister and my team are all there,\" Federer added.',\n",
              " '\"It is always very emotional for me to thank my team.',\n",
              " 'And sometimes it tilts with the emotions, sometimes I just stumble.',\n",
              " '\"It means the world to me.',\n",
              " 'It makes me incredibly happy to win my home tournament and make people happy here.',\n",
              " '\"I do not know if it\\'s maybe my last title, so today I try a lot more to absorb that and enjoy the moments much more consciously.',\n",
              " '\"Maybe I should celebrate as if it were my last title.',\n",
              " '\"There are very touching moments: seeing the ball children, the standing ovations, all the familiar faces in the audience.',\n",
              " 'Because it was not always easy in the last weeks.\"']"
            ]
          },
          "metadata": {},
          "execution_count": 14
        }
      ]
    },
    {
      "cell_type": "code",
      "metadata": {
        "id": "5W9pRVDZEWDw"
      },
      "source": [
        "# remove punctuations, numbers and special characters\n",
        "clean_sentences = pd.Series(sentences).str.replace(\"[^a-zA-Z]\", \" \")"
      ],
      "execution_count": null,
      "outputs": []
    },
    {
      "cell_type": "code",
      "metadata": {
        "colab": {
          "base_uri": "https://localhost:8080/"
        },
        "id": "XTJxx_CuEsjw",
        "outputId": "e8c09daf-b8b1-4697-fd42-8e7d9b153a61"
      },
      "source": [
        "clean_sentences"
      ],
      "execution_count": null,
      "outputs": [
        {
          "output_type": "execute_result",
          "data": {
            "text/plain": [
              "0      Maria Sharapova has basically no friends as te...\n",
              "1      The Russian player has no problems in openly s...\n",
              "2            I think everyone knows this is my job here \n",
              "3      When I m on the courts or when I m on the cour...\n",
              "4                         I m a pretty competitive girl \n",
              "                             ...                        \n",
              "114    It makes me incredibly happy to win my home to...\n",
              "115     I do not know if it s maybe my last title  so...\n",
              "116     Maybe I should celebrate as if it were my las...\n",
              "117     There are very touching moments  seeing the b...\n",
              "118    Because it was not always easy in the last wee...\n",
              "Length: 119, dtype: object"
            ]
          },
          "metadata": {},
          "execution_count": 40
        }
      ]
    },
    {
      "cell_type": "code",
      "metadata": {
        "id": "W2-uYrEfEvNo"
      },
      "source": [
        "import re\n",
        "clean_sentences = []\n",
        "ind=0\n",
        "while ind < len(sentences):\n",
        "  i=sentences[ind]\n",
        "  regex = re.compile('[^a-zA-Z]')\n",
        "  if len(i)!=0:\n",
        "    clean_sentences.append(regex.sub(' ', i[0]))\n",
        "    ind+=1\n",
        "  else:\n",
        "    del sentences[ind]\n",
        "# make alphabets lowercase\n",
        "clean_sentences = [s.lower() for s in clean_sentences]"
      ],
      "execution_count": null,
      "outputs": []
    },
    {
      "cell_type": "code",
      "metadata": {
        "colab": {
          "base_uri": "https://localhost:8080/"
        },
        "id": "lxvvjVmcFFJL",
        "outputId": "e4782e1d-c570-4176-ff2a-686d5aaee737"
      },
      "source": [
        "clean_sentences"
      ],
      "execution_count": null,
      "outputs": [
        {
          "output_type": "execute_result",
          "data": {
            "text/plain": [
              "['m',\n",
              " 't',\n",
              " 'i',\n",
              " 'w',\n",
              " 'i',\n",
              " 'i',\n",
              " 'u',\n",
              " 'i',\n",
              " 'w',\n",
              " 'i',\n",
              " ' ',\n",
              " 'i',\n",
              " 'i',\n",
              " 'i',\n",
              " 'i',\n",
              " 'b',\n",
              " 't',\n",
              " 'b',\n",
              " 's',\n",
              " 'f',\n",
              " 'h',\n",
              " 'h',\n",
              " 'c',\n",
              " 't',\n",
              " 'c',\n",
              " ' ',\n",
              " 'c',\n",
              " 'h',\n",
              " 'f',\n",
              " 'r',\n",
              " 's',\n",
              " ' ',\n",
              " ' ',\n",
              " ' ',\n",
              " 't',\n",
              " 't',\n",
              " 'k',\n",
              " 'n',\n",
              " 'm',\n",
              " 'f',\n",
              " ' ',\n",
              " 'w',\n",
              " ' ',\n",
              " 't',\n",
              " 'a',\n",
              " ' ',\n",
              " 'k',\n",
              " 't',\n",
              " 'a',\n",
              " 'h',\n",
              " 't',\n",
              " 'a',\n",
              " 'n',\n",
              " 'w',\n",
              " 'c',\n",
              " 'n',\n",
              " 'h',\n",
              " 'a',\n",
              " 't',\n",
              " 'f',\n",
              " 't',\n",
              " 'd',\n",
              " 'b',\n",
              " ' ',\n",
              " ' ',\n",
              " ' ',\n",
              " ' ',\n",
              " ' ',\n",
              " ' ',\n",
              " ' ',\n",
              " 'm',\n",
              " ' ',\n",
              " ' ',\n",
              " ' ',\n",
              " ' ',\n",
              " 'i',\n",
              " 't',\n",
              " 'n',\n",
              " 't',\n",
              " 'b',\n",
              " 'n',\n",
              " 't',\n",
              " 'n',\n",
              " 'n',\n",
              " 'f',\n",
              " 'b',\n",
              " 'f',\n",
              " 'd',\n",
              " 'b',\n",
              " 't',\n",
              " 't',\n",
              " 'i',\n",
              " 'h',\n",
              " 'l',\n",
              " 't',\n",
              " 'i',\n",
              " 'i',\n",
              " 'i',\n",
              " 'n',\n",
              " 'f',\n",
              " 't',\n",
              " 'f',\n",
              " 'b',\n",
              " ' ',\n",
              " ' ',\n",
              " ' ',\n",
              " ' ',\n",
              " ' ',\n",
              " 'f',\n",
              " 'a',\n",
              " ' ',\n",
              " ' ',\n",
              " 'a',\n",
              " ' ',\n",
              " 'i',\n",
              " ' ',\n",
              " ' ',\n",
              " ' ',\n",
              " 'b']"
            ]
          },
          "metadata": {},
          "execution_count": 42
        }
      ]
    },
    {
      "cell_type": "code",
      "metadata": {
        "colab": {
          "base_uri": "https://localhost:8080/"
        },
        "id": "uiFOYNNCFRP0",
        "outputId": "d46c8b83-3eab-448c-ed30-17c0b5f7657f"
      },
      "source": [
        "nltk.download('stopwords')\n",
        "from nltk.corpus import stopwords\n",
        "stop_words = stopwords.words('english')"
      ],
      "execution_count": null,
      "outputs": [
        {
          "output_type": "stream",
          "name": "stdout",
          "text": [
            "[nltk_data] Downloading package stopwords to /root/nltk_data...\n",
            "[nltk_data]   Package stopwords is already up-to-date!\n"
          ]
        }
      ]
    },
    {
      "cell_type": "code",
      "metadata": {
        "id": "sUnqDX_lFgdb"
      },
      "source": [
        "# function to remove stopwords\n",
        "def remove_stopwords(sen):\n",
        "    sen_new = \" \".join([i for i in sen if i not in stop_words])\n",
        "    return sen_new"
      ],
      "execution_count": null,
      "outputs": []
    },
    {
      "cell_type": "code",
      "metadata": {
        "id": "-zFXAkvnFoMx"
      },
      "source": [
        "# remove stopwords from the sentences\n",
        "clean_sentences = [remove_stopwords(r.split()) for r in clean_sentences]"
      ],
      "execution_count": null,
      "outputs": []
    },
    {
      "cell_type": "code",
      "metadata": {
        "colab": {
          "base_uri": "https://localhost:8080/"
        },
        "id": "7nGbmz0fFso8",
        "outputId": "8a0940f8-179f-462a-da2e-1a59de5eccde"
      },
      "source": [
        "clean_sentences"
      ],
      "execution_count": null,
      "outputs": [
        {
          "output_type": "execute_result",
          "data": {
            "text/plain": [
              "['',\n",
              " '',\n",
              " '',\n",
              " 'w',\n",
              " '',\n",
              " '',\n",
              " 'u',\n",
              " '',\n",
              " 'w',\n",
              " '',\n",
              " '',\n",
              " '',\n",
              " '',\n",
              " '',\n",
              " '',\n",
              " 'b',\n",
              " '',\n",
              " 'b',\n",
              " '',\n",
              " 'f',\n",
              " 'h',\n",
              " 'h',\n",
              " 'c',\n",
              " '',\n",
              " 'c',\n",
              " '',\n",
              " 'c',\n",
              " 'h',\n",
              " 'f',\n",
              " 'r',\n",
              " '',\n",
              " '',\n",
              " '',\n",
              " '',\n",
              " '',\n",
              " '',\n",
              " 'k',\n",
              " 'n',\n",
              " '',\n",
              " 'f',\n",
              " '',\n",
              " 'w',\n",
              " '',\n",
              " '',\n",
              " '',\n",
              " '',\n",
              " 'k',\n",
              " '',\n",
              " '',\n",
              " 'h',\n",
              " '',\n",
              " '',\n",
              " 'n',\n",
              " 'w',\n",
              " 'c',\n",
              " 'n',\n",
              " 'h',\n",
              " '',\n",
              " '',\n",
              " 'f',\n",
              " '',\n",
              " '',\n",
              " 'b',\n",
              " '',\n",
              " '',\n",
              " '',\n",
              " '',\n",
              " '',\n",
              " '',\n",
              " '',\n",
              " '',\n",
              " '',\n",
              " '',\n",
              " '',\n",
              " '',\n",
              " '',\n",
              " '',\n",
              " 'n',\n",
              " '',\n",
              " 'b',\n",
              " 'n',\n",
              " '',\n",
              " 'n',\n",
              " 'n',\n",
              " 'f',\n",
              " 'b',\n",
              " 'f',\n",
              " '',\n",
              " 'b',\n",
              " '',\n",
              " '',\n",
              " '',\n",
              " 'h',\n",
              " 'l',\n",
              " '',\n",
              " '',\n",
              " '',\n",
              " '',\n",
              " 'n',\n",
              " 'f',\n",
              " '',\n",
              " 'f',\n",
              " 'b',\n",
              " '',\n",
              " '',\n",
              " '',\n",
              " '',\n",
              " '',\n",
              " 'f',\n",
              " '',\n",
              " '',\n",
              " '',\n",
              " '',\n",
              " '',\n",
              " '',\n",
              " '',\n",
              " '',\n",
              " '',\n",
              " 'b']"
            ]
          },
          "metadata": {},
          "execution_count": 46
        }
      ]
    },
    {
      "cell_type": "code",
      "metadata": {
        "colab": {
          "base_uri": "https://localhost:8080/"
        },
        "id": "mt1HFgJX7Gki",
        "outputId": "3fae3cd0-903d-4deb-e9ab-eab67241b345"
      },
      "source": [
        "!wget http://nlp.stanford.edu/data/glove.6B.zip\n",
        "!unzip glove*.zip\n",
        "# Extract word vectors\n",
        "word_embeddings = {}\n",
        "f = open('glove.6B.100d.txt', encoding='utf-8')\n",
        "for line in f:values = line.split()\n",
        "word = values[0]\n",
        "coefs = np.asarray(values[1:], dtype='float32')\n",
        "word_embeddings[word] = coefs\n",
        "f.close()\n",
        "len(word_embeddings)"
      ],
      "execution_count": null,
      "outputs": [
        {
          "output_type": "stream",
          "name": "stdout",
          "text": [
            "--2021-11-16 13:54:18--  http://nlp.stanford.edu/data/glove.6B.zip\n",
            "Resolving nlp.stanford.edu (nlp.stanford.edu)... 171.64.67.140\n",
            "Connecting to nlp.stanford.edu (nlp.stanford.edu)|171.64.67.140|:80... connected.\n",
            "HTTP request sent, awaiting response... 302 Found\n",
            "Location: https://nlp.stanford.edu/data/glove.6B.zip [following]\n",
            "--2021-11-16 13:54:18--  https://nlp.stanford.edu/data/glove.6B.zip\n",
            "Connecting to nlp.stanford.edu (nlp.stanford.edu)|171.64.67.140|:443... connected.\n",
            "HTTP request sent, awaiting response... 301 Moved Permanently\n",
            "Location: http://downloads.cs.stanford.edu/nlp/data/glove.6B.zip [following]\n",
            "--2021-11-16 13:54:18--  http://downloads.cs.stanford.edu/nlp/data/glove.6B.zip\n",
            "Resolving downloads.cs.stanford.edu (downloads.cs.stanford.edu)... 171.64.64.22\n",
            "Connecting to downloads.cs.stanford.edu (downloads.cs.stanford.edu)|171.64.64.22|:80... connected.\n",
            "HTTP request sent, awaiting response... 200 OK\n",
            "Length: 862182613 (822M) [application/zip]\n",
            "Saving to: ‘glove.6B.zip’\n",
            "\n",
            "glove.6B.zip        100%[===================>] 822.24M  5.10MB/s    in 2m 39s  \n",
            "\n",
            "2021-11-16 13:56:58 (5.16 MB/s) - ‘glove.6B.zip’ saved [862182613/862182613]\n",
            "\n",
            "Archive:  glove.6B.zip\n",
            "  inflating: glove.6B.50d.txt        \n",
            "  inflating: glove.6B.100d.txt       \n",
            "  inflating: glove.6B.200d.txt       \n",
            "  inflating: glove.6B.300d.txt       \n"
          ]
        },
        {
          "output_type": "execute_result",
          "data": {
            "text/plain": [
              "1"
            ]
          },
          "metadata": {},
          "execution_count": 10
        }
      ]
    },
    {
      "cell_type": "code",
      "metadata": {
        "id": "zt8bYBPiKkSg"
      },
      "source": [
        "sentence_vectors = []\n",
        "for i in clean_sentences:\n",
        "  if len(i) != 0:\n",
        "    v = sum([word_embeddings.get(w, np.zeros((100,))) for w in i.split()])/(len(i.split())+0.001)\n",
        "  else:\n",
        "    v = np.zeros((100,))\n",
        "  sentence_vectors.append(v)"
      ],
      "execution_count": null,
      "outputs": []
    },
    {
      "cell_type": "code",
      "metadata": {
        "colab": {
          "base_uri": "https://localhost:8080/"
        },
        "id": "c2Cqh2tzJG6n",
        "outputId": "660275e8-3d5b-421f-9ea6-6cd8e88af46c"
      },
      "source": [
        "sentence_vectors"
      ],
      "execution_count": null,
      "outputs": [
        {
          "output_type": "execute_result",
          "data": {
            "text/plain": [
              "[array([-0.10611388,  0.7428971 ,  0.16142856,  0.33772224, -0.39070925,\n",
              "         0.21216783,  0.6131269 , -0.19053946, -0.654965  ,  0.23617382,\n",
              "         1.2917082 , -1.171928  , -0.81955045,  0.7766933 ,  0.66299695,\n",
              "        -0.45064932, -0.26476523,  0.15862137,  0.7698801 ,  0.4221978 ,\n",
              "         0.38473526, -0.50938064,  0.8393906 ,  0.35411587, -0.08090309,\n",
              "         1.0803196 ,  0.7432967 ,  0.0057998 , -0.2791608 ,  0.16891108,\n",
              "         0.00904286,  0.5388311 ,  0.00563506,  0.67835164,  0.69393605,\n",
              "         0.3046953 ,  0.88728267,  0.6233866 , -0.7180819 ,  0.46038958,\n",
              "         0.2651548 ,  0.08886613,  0.0081024 , -0.8829071 ,  0.7838661 ,\n",
              "         0.5493506 , -0.5688111 ,  0.4511788 , -0.19659339, -0.41916084,\n",
              "         0.03124875,  0.5274026 ,  0.09578921, -0.18452546, -0.8784615 ,\n",
              "        -2.0996003 , -1.1774225 , -0.0823936 ,  1.4546453 ,  1.0143856 ,\n",
              "        -0.1970929 , -0.52166826, -0.24382615,  0.13031967,  1.1257741 ,\n",
              "         0.9236663 ,  0.76211786,  0.9026073 , -0.12625374,  0.19210789,\n",
              "        -0.6630969 ,  0.02689111, -0.02040759, -0.14473526,  0.30641356,\n",
              "        -0.18440558, -0.5382318 , -0.02947952, -0.24526472, -0.9788911 ,\n",
              "        -0.2950849 , -0.3622877 ,  0.03807692, -0.9670229 , -0.52455544,\n",
              "         0.16316684, -1.0355644 , -0.75554436, -0.1142957 ,  0.8174026 ,\n",
              "        -0.96253747,  0.48305693,  0.21030968,  0.29315683, -0.11330669,\n",
              "         0.503916  ,  0.00270749, -0.533946  , -0.3977922 , -0.13581418],\n",
              "       dtype=float32)]"
            ]
          },
          "metadata": {},
          "execution_count": 54
        }
      ]
    },
    {
      "cell_type": "code",
      "metadata": {
        "colab": {
          "base_uri": "https://localhost:8080/"
        },
        "id": "hyBEkYOcJKY7",
        "outputId": "42f7d054-0978-4737-c1fb-6061efcd3059"
      },
      "source": [
        "len(sentence_vectors)"
      ],
      "execution_count": null,
      "outputs": [
        {
          "output_type": "execute_result",
          "data": {
            "text/plain": [
              "119"
            ]
          },
          "metadata": {},
          "execution_count": 65
        }
      ]
    },
    {
      "cell_type": "code",
      "metadata": {
        "id": "M1trPmGWJxG5"
      },
      "source": [
        "# similarity matrix\n",
        "sim_mat = np.zeros([len(sentences), len(sentences)])"
      ],
      "execution_count": null,
      "outputs": []
    },
    {
      "cell_type": "code",
      "metadata": {
        "id": "QhHa4I6aJzW5"
      },
      "source": [
        "from sklearn.metrics.pairwise import cosine_similarity"
      ],
      "execution_count": null,
      "outputs": []
    },
    {
      "cell_type": "code",
      "metadata": {
        "id": "U7bdR2GpJ5wd"
      },
      "source": [
        "for i in range(len(sentences)):\n",
        "  for j in range(len(sentences)):\n",
        "    if i != j:\n",
        "      sim_mat[i][j]=cosine_similarity(sentence_vectors[i].reshape(1,100),sentence_vectors[j].reshape(1,100))[0,0]"
      ],
      "execution_count": null,
      "outputs": []
    },
    {
      "cell_type": "code",
      "metadata": {
        "id": "7gXTQq4qKupZ"
      },
      "source": [
        "import networkx as nx\n",
        "nx_graph = nx.from_numpy_array(sim_mat)\n",
        "scores = nx.pagerank(nx_graph)"
      ],
      "execution_count": null,
      "outputs": []
    },
    {
      "cell_type": "code",
      "metadata": {
        "colab": {
          "base_uri": "https://localhost:8080/"
        },
        "id": "ErrNRTw9K0XO",
        "outputId": "3dbee0b8-a06d-4ff8-813b-d1cdabe2ea0b"
      },
      "source": [
        "scores"
      ],
      "execution_count": null,
      "outputs": [
        {
          "output_type": "execute_result",
          "data": {
            "text/plain": [
              "{0: 0.0027158442583907127,\n",
              " 1: 0.0027158442583907127,\n",
              " 2: 0.0027158442583907127,\n",
              " 3: 0.017070621383704365,\n",
              " 4: 0.0027158442583907127,\n",
              " 5: 0.0027158442583907127,\n",
              " 6: 0.013802274251136068,\n",
              " 7: 0.0027158442583907127,\n",
              " 8: 0.017070621383704365,\n",
              " 9: 0.0027158442583907127,\n",
              " 10: 0.0027158442583907127,\n",
              " 11: 0.0027158442583907127,\n",
              " 12: 0.0027158442583907127,\n",
              " 13: 0.0027158442583907127,\n",
              " 14: 0.0027158442583907127,\n",
              " 15: 0.017865402080387126,\n",
              " 16: 0.0027158442583907127,\n",
              " 17: 0.017865402080387126,\n",
              " 18: 0.0027158442583907127,\n",
              " 19: 0.019060919599519877,\n",
              " 20: 0.01877639611391501,\n",
              " 21: 0.01877639611391501,\n",
              " 22: 0.01817906427671567,\n",
              " 23: 0.0027158442583907127,\n",
              " 24: 0.01817906427671567,\n",
              " 25: 0.0027158442583907127,\n",
              " 26: 0.01817906427671567,\n",
              " 27: 0.01877639611391501,\n",
              " 28: 0.019060919599519877,\n",
              " 29: 0.014377975644758133,\n",
              " 30: 0.0027158442583907127,\n",
              " 31: 0.0027158442583907127,\n",
              " 32: 0.0027158442583907127,\n",
              " 33: 0.0027158442583907127,\n",
              " 34: 0.0027158442583907127,\n",
              " 35: 0.0027158442583907127,\n",
              " 36: 0.018218686788653102,\n",
              " 37: 0.018339212444466655,\n",
              " 38: 0.0027158442583907127,\n",
              " 39: 0.019060919599519877,\n",
              " 40: 0.0027158442583907127,\n",
              " 41: 0.017070621383704365,\n",
              " 42: 0.0027158442583907127,\n",
              " 43: 0.0027158442583907127,\n",
              " 44: 0.0027158442583907127,\n",
              " 45: 0.0027158442583907127,\n",
              " 46: 0.018218686788653102,\n",
              " 47: 0.0027158442583907127,\n",
              " 48: 0.0027158442583907127,\n",
              " 49: 0.01877639611391501,\n",
              " 50: 0.0027158442583907127,\n",
              " 51: 0.0027158442583907127,\n",
              " 52: 0.018339212444466655,\n",
              " 53: 0.017070621383704365,\n",
              " 54: 0.01817906427671567,\n",
              " 55: 0.018339212444466655,\n",
              " 56: 0.01877639611391501,\n",
              " 57: 0.0027158442583907127,\n",
              " 58: 0.0027158442583907127,\n",
              " 59: 0.019060919599519877,\n",
              " 60: 0.0027158442583907127,\n",
              " 61: 0.0027158442583907127,\n",
              " 62: 0.017865402080387126,\n",
              " 63: 0.0027158442583907127,\n",
              " 64: 0.0027158442583907127,\n",
              " 65: 0.0027158442583907127,\n",
              " 66: 0.0027158442583907127,\n",
              " 67: 0.0027158442583907127,\n",
              " 68: 0.0027158442583907127,\n",
              " 69: 0.0027158442583907127,\n",
              " 70: 0.0027158442583907127,\n",
              " 71: 0.0027158442583907127,\n",
              " 72: 0.0027158442583907127,\n",
              " 73: 0.0027158442583907127,\n",
              " 74: 0.0027158442583907127,\n",
              " 75: 0.0027158442583907127,\n",
              " 76: 0.0027158442583907127,\n",
              " 77: 0.018339212444466655,\n",
              " 78: 0.0027158442583907127,\n",
              " 79: 0.017865402080387126,\n",
              " 80: 0.018339212444466655,\n",
              " 81: 0.0027158442583907127,\n",
              " 82: 0.018339212444466655,\n",
              " 83: 0.018339212444466655,\n",
              " 84: 0.019060919599519877,\n",
              " 85: 0.017865402080387126,\n",
              " 86: 0.019060919599519877,\n",
              " 87: 0.0027158442583907127,\n",
              " 88: 0.017865402080387126,\n",
              " 89: 0.0027158442583907127,\n",
              " 90: 0.0027158442583907127,\n",
              " 91: 0.0027158442583907127,\n",
              " 92: 0.01877639611391501,\n",
              " 93: 0.016851745227816094,\n",
              " 94: 0.0027158442583907127,\n",
              " 95: 0.0027158442583907127,\n",
              " 96: 0.0027158442583907127,\n",
              " 97: 0.0027158442583907127,\n",
              " 98: 0.018339212444466655,\n",
              " 99: 0.01906091959951988,\n",
              " 100: 0.0027158442583907127,\n",
              " 101: 0.01906091959951988,\n",
              " 102: 0.01786540208038713,\n",
              " 103: 0.0027158442583907127,\n",
              " 104: 0.0027158442583907127,\n",
              " 105: 0.0027158442583907127,\n",
              " 106: 0.0027158442583907127,\n",
              " 107: 0.0027158442583907127,\n",
              " 108: 0.01906091959951988,\n",
              " 109: 0.0027158442583907127,\n",
              " 110: 0.0027158442583907127,\n",
              " 111: 0.0027158442583907127,\n",
              " 112: 0.0027158442583907127,\n",
              " 113: 0.0027158442583907127,\n",
              " 114: 0.0027158442583907127,\n",
              " 115: 0.0027158442583907127,\n",
              " 116: 0.0027158442583907127,\n",
              " 117: 0.0027158442583907127,\n",
              " 118: 0.01786540208038713}"
            ]
          },
          "metadata": {},
          "execution_count": 68
        }
      ]
    },
    {
      "cell_type": "code",
      "metadata": {
        "id": "IX_XeyqfK2qZ"
      },
      "source": [
        "ranked_sentences = sorted(((scores[i],s) for i,s in enumerate(sentences)), reverse=True)"
      ],
      "execution_count": null,
      "outputs": []
    },
    {
      "cell_type": "code",
      "metadata": {
        "colab": {
          "base_uri": "https://localhost:8080/"
        },
        "id": "7BZzJKuzK_Wb",
        "outputId": "0c9539c8-890b-4909-8169-5345c165b1bf"
      },
      "source": [
        "ranked_sentences"
      ],
      "execution_count": null,
      "outputs": [
        {
          "output_type": "execute_result",
          "data": {
            "text/plain": [
              "[(0.01906091959951988,\n",
              "  \"Federer's success in Basel last week was the ninth time he has won his hometown tournament.\"),\n",
              " (0.01906091959951988,\n",
              "  'Federer won the Swiss Indoors last week by beating Romanian qualifier Marius Copil in the final.'),\n",
              " (0.01906091959951988,\n",
              "  'Federer has been handed a difficult draw where could could come across Kevin Anderson, Novak Djokovic and Rafael Nadal in the latter rounds.'),\n",
              " (0.019060919599519877,\n",
              "  'Federer, 37, first broke through on tour over two decades ago and he has since gone on to enjoy a glittering career.'),\n",
              " (0.019060919599519877,\n",
              "  \"Federer's projected route to the Paris final could also lead to matches against Kevin Anderson and Novak Djokovic.\"),\n",
              " (0.019060919599519877,\n",
              "  'Federer said earlier this month in Shanghai in that his chances of playing the Davis Cup were all but non-existent.'),\n",
              " (0.019060919599519877,\n",
              "  'Federer is in action at the Swiss Indoors in Basel and if he reaches the final, he could pull out of Paris in a bid to stay fresh for London.'),\n",
              " (0.019060919599519877,\n",
              "  'Federer had an easier time than in his only previous match against Medvedev, a three-setter at Shanghai two weeks ago.'),\n",
              " (0.019060919599519877,\n",
              "  'Federer dominated the 20th-ranked Medvedev and had his first match-point chance to break serve again at 5-1.'),\n",
              " (0.01877639611391501,\n",
              "  'He used his first break point to close out the first set before going up 3-0 in the second and wrapping up the win on his first match point.'),\n",
              " (0.01877639611391501,\n",
              "  \"He then dropped his serve to love, and let another match point slip in Medvedev's next service game by netting a backhand.\"),\n",
              " (0.01877639611391501, 'He has lost eight straight finals since.'),\n",
              " (0.01877639611391501,\n",
              "  'He could lose 1,400 points in the next few weeks, but instead of focusing on the negative, it can all be about perspective (06:28).'),\n",
              " (0.01877639611391501,\n",
              "  'He clinched on his fourth chance when Medvedev netted from the baseline.'),\n",
              " (0.01877639611391501,\n",
              "  \"He came through two rounds of qualifying last weekend to reach the Basel main draw, including beating Zverev's older brother, Mischa.\"),\n",
              " (0.018339212444466655,\n",
              "  \"Novak Djokovic has said he will give precedence to the ATP's intended re-launch of the defunct World Team Cup in January 2020, at various Australian venues.\"),\n",
              " (0.018339212444466655,\n",
              "  'Nishikori leads Anderson 4-2 on career matchups, but the South African won their only previous meeting this year.'),\n",
              " (0.018339212444466655,\n",
              "  'Nishikori held serve throughout against Kukushkin, who came through qualifying.'),\n",
              " (0.018339212444466655,\n",
              "  'Nina and Irina give their opinions on what coaching should look like in the future, on both tours (18:55).'),\n",
              " (0.018339212444466655,\n",
              "  \"Nadal's appearance in Paris is a big boost to the tournament organisers who could see Roger Federer withdraw.\"),\n",
              " (0.018339212444466655,\n",
              "  'Nadal has not played tennis since he was forced to retire from the US Open semi-finals against Juan Martin Del Porto with a knee injury.'),\n",
              " (0.018339212444466655,\n",
              "  'Nadal flew to Paris on Friday and footage from the Paris Masters official Twitter account shows the Spaniard smiling as he strides onto court for practice.'),\n",
              " (0.018339212444466655,\n",
              "  'Nadal could then play defending champion Jack Sock in the third round before a potential quarter-final with either Borna Coric or Dominic Thiem.'),\n",
              " (0.018218686788653102,\n",
              "  'Kosmos is headed by Barcelona footballer Gerard Pique, who is hoping fellow Spaniard Rafael Nadal will play in the upcoming event.'),\n",
              " (0.018218686788653102,\n",
              "  'Kei Nishikori will try to end his long losing streak in ATP finals and Kevin Anderson will go for his second title of the year at the Erste Bank Open on Sunday.'),\n",
              " (0.01817906427671567,\n",
              "  'Currently in ninth place, Nishikori with a win could move to within 125 points of the cut for the eight-man event in London next month.'),\n",
              " (0.01817906427671567,\n",
              "  'Copil upset expectations of a Federer final against Alexander Zverev in a 6-3, 6-7 (6), 6-4 win over the fifth-ranked German in the earlier semifinal.'),\n",
              " (0.01817906427671567, 'Copil has two after also beating No.'),\n",
              " (0.01817906427671567,\n",
              "  'Copil fired 26 aces past Zverev and never dropped serve, clinching after 2 1/2 hours with a forehand volley winner to break Zverev for the second time in the semifinal.'),\n",
              " (0.01786540208038713,\n",
              "  'But first the 20-time Grand Slam winner wants to train on the Paris Masters court this afternoon before deciding whether to appear for his opening match against either Milos Raonic or Jo-Wilfried Tsonga.'),\n",
              " (0.01786540208038713, 'Because it was not always easy in the last weeks.\"'),\n",
              " (0.017865402080387126,\n",
              "  'But with the ATP World Tour Finals due to begin next month, Nadal is ready to prove his fitness before the season-ending event at the 02 Arena.'),\n",
              " (0.017865402080387126,\n",
              "  'But ultimately tennis is just a very small part of what we do.'),\n",
              " (0.017865402080387126,\n",
              "  'But she claims the mentality of professional tennis players slowly began to change after the new millennium.'),\n",
              " (0.017865402080387126,\n",
              "  'But as it stands, Federer is in the draw and is scheduled to face either former world No 3 Milos Raonic or Jo-Wilfried Tsonga in the second round.'),\n",
              " (0.017865402080387126,\n",
              "  'British No 1 Kyle Edmund is the 12th seed in Paris and will get underway in round two against either Karen Khachanov or Filip Krajinovic.'),\n",
              " (0.017865402080387126,\n",
              "  'BASEL, Switzerland (AP), Roger Federer advanced to the 14th Swiss Indoors final of his career by beating seventh-seeded Daniil Medvedev 6-1, 6-4 on Saturday.'),\n",
              " (0.017070621383704365,\n",
              "  'With a victory on Sunday, Anderson will qualify for the ATP Finals.'),\n",
              " (0.017070621383704365,\n",
              "  'When she said she is not really close to a lot of players, is that something strategic that she is doing?'),\n",
              " (0.017070621383704365,\n",
              "  \"When I'm on the courts or when I'm on the court playing, I'm a competitor and I want to beat every single person whether they're in the locker room or across the net.So I'm not the one to strike up a conversation about the weather and know that in the next few minutes I have to go and try to win a tennis match.\"),\n",
              " (0.017070621383704365, 'We will see what happens,\" he said.'),\n",
              " (0.016851745227816094,\n",
              "  \"Let's also not forget his two Grand Slam doubles triumphs this season.\"),\n",
              " (0.014377975644758133,\n",
              "  'Roger Federer has revealed that organisers of the re-launched and condensed Davis Cup gave him three days to decide if he would commit to the controversial competition.'),\n",
              " (0.013802274251136068,\n",
              "  \"Uhm, I'm not really friendly or close to many players.\"),\n",
              " (0.0027158442583907127,\n",
              "  'Two players, Stefanos Tsitsipas and Kyle Edmund, won their first career ATP titles last week (13:26).'),\n",
              " (0.0027158442583907127,\n",
              "  'This was designed for the future generation of players.\"'),\n",
              " (0.0027158442583907127, 'This is where the first rounds can be tricky.\"'),\n",
              " (0.0027158442583907127,\n",
              "  \"There are so many other things that we're interested in, that we do.'\"),\n",
              " (0.0027158442583907127,\n",
              "  \"The world No 1 has been forced to miss Spain's Davis Cup clash with France and the Asian hard court season.\"),\n",
              " (0.0027158442583907127,\n",
              "  'The second-seeded Anderson defeated Fernando Verdasco 6-3, 3-6, 6-4.'),\n",
              " (0.0027158442583907127,\n",
              "  'The fifth-seeded Nishikori reached his third final of 2018 after beating Mikhail Kukushkin of Kazakhstan 6-4, 6-3 in the semifinals.'),\n",
              " (0.0027158442583907127,\n",
              "  'The end of the season is finally in sight, and with so many players defending,or losing,huge chunks of points in Singapore, Zhuhai and London, podcast co-hosts Nina Pantic and Irina Falconi discuss the art of defending points (02:14).'),\n",
              " (0.0027158442583907127,\n",
              "  'The competition is set to feature 18 countries in the November 18-24 finals in Madrid next year, and will replace the classic home-and-away ties played four times per year for decades.'),\n",
              " (0.0027158442583907127,\n",
              "  \"The Spaniard broke Anderson twice in the second but didn't get another chance on the South African's serve in the final set.\"),\n",
              " (0.0027158442583907127,\n",
              "  \"The Russian player has no problems in openly speaking about it and in a recent interview she said: 'I don't really hide any feelings too much.\"),\n",
              " (0.0027158442583907127,\n",
              "  'The Romanian aims for a first title after arriving at Basel without a career win over a top-10 opponent.'),\n",
              " (0.0027158442583907127,\n",
              "  'The Paris Masters draw has been made and Nadal will start his campaign on Tuesday or Wednesday against either Fernando Verdasco or Jeremy Chardy.'),\n",
              " (0.0027158442583907127,\n",
              "  'The 37-year-old claimed his 99th ATP title and is hunting the century in the French capital this week.'),\n",
              " (0.0027158442583907127,\n",
              "  'The 20-time Grand Slam winner is chasing his 99th ATP title at the Swiss Indoors this week and he faces Jan-Lennard Struff in the second round on Thursday (6pm BST).'),\n",
              " (0.0027158442583907127,\n",
              "  'The 20-time Grand Slam champion has voiced doubts about the wisdom of the one-week format to be introduced by organisers Kosmos, who have promised the International Tennis Federation up to $3 billion in prize money over the next quarter-century.'),\n",
              " (0.0027158442583907127, 'Tennis giveth, and tennis taketh away.'),\n",
              " (0.0027158442583907127,\n",
              "  'Speaking at the Swiss Indoors tournament where he will play in Sundays final against Romanian qualifier Marius Copil, the world number three said that given the impossibly short time frame to make a decision, he opted out of any commitment.'),\n",
              " (0.0027158442583907127,\n",
              "  'Seeking a ninth title at his hometown event, and a 99th overall, Federer will play 93th-ranked Marius Copil on Sunday.'),\n",
              " (0.0027158442583907127,\n",
              "  'Meanwhile, Federer is hoping he can improve his service game as he hunts his ninth Swiss Indoors title this week.'),\n",
              " (0.0027158442583907127,\n",
              "  'Maria Sharapova has basically no friends as tennis players on the WTA Tour.'),\n",
              " (0.0027158442583907127,\n",
              "  'Major players feel that a big event in late November combined with one in January before the Australian Open will mean too much tennis and too little rest.'),\n",
              " (0.0027158442583907127,\n",
              "  \"It's no secret that Jack Sock has struggled on the singles court this year (his record is 7-19).\"),\n",
              " (0.0027158442583907127, \"It's just getting used to it.\"),\n",
              " (0.0027158442583907127,\n",
              "  \"It's a big deal because you never forget your first.\"),\n",
              " (0.0027158442583907127,\n",
              "  'It makes me incredibly happy to win my home tournament and make people happy here.'),\n",
              " (0.0027158442583907127,\n",
              "  \"Is it different on the men's tour than the women's tour?\"),\n",
              " (0.0027158442583907127,\n",
              "  'Irina looks back at her WTA title win in Bogota in 2016, and tells an unforgettable story about her semifinal drama (14:04).'),\n",
              " (0.0027158442583907127,\n",
              "  'In Singapore, one of the biggest storylines (aside from the matches, of course) has been the on-court coaching debate.'),\n",
              " (0.0027158442583907127, \"I'm a pretty competitive girl.\"),\n",
              " (0.0027158442583907127,\n",
              "  \"I think just because you're in the same sport doesn't mean that you have to be friends with everyone just because you're categorized, you're a tennis player, so you're going to get along with tennis players.\"),\n",
              " (0.0027158442583907127, 'I think everyone knows this is my job here.'),\n",
              " (0.0027158442583907127,\n",
              "  \"I think everyone just thinks because we're tennis players we should be the greatest of friends.\"),\n",
              " (0.0027158442583907127, 'I think every person has different interests.'),\n",
              " (0.0027158442583907127,\n",
              "  \"I say my hellos, but I'm not sending any players flowers as well.\"),\n",
              " (0.0027158442583907127, \"I have not a lot of friends away from the courts.'\"),\n",
              " (0.0027158442583907127,\n",
              "  \"I have friends that have completely different jobs and interests, and I've met them in very different parts of my life.\"),\n",
              " (0.0027158442583907127,\n",
              "  'Djokovic could play Marco Cecchinato in the second round.'),\n",
              " (0.0027158442583907127,\n",
              "  'Davenport enjoyed most of her success in the late 1990s and her third and final major tournament win came at the 2000 Australian Open.'),\n",
              " (0.0027158442583907127,\n",
              "  'Argentina and Britain received wild cards to the new-look event, and will compete along with the four 2018 semi-finalists and the 12 teams who win qualifying rounds next February.'),\n",
              " (0.0027158442583907127,\n",
              "  'Anderson has a shot at a fifth career title and second of the year after winning in New York in February.'),\n",
              " (0.0027158442583907127,\n",
              "  'And sometimes it tilts with the emotions, sometimes I just stumble.'),\n",
              " (0.0027158442583907127,\n",
              "  'And he was delighted to be watched on by all of his family and friends as he purchased 60 tickets for the final for those dearest to him.'),\n",
              " (0.0027158442583907127,\n",
              "  'Against Verdasco, Anderson hit nine of his 19 aces in the opening set.'),\n",
              " (0.0027158442583907127,\n",
              "  \"A winner of 11 ATP events, Nishikori hasn't triumphed since winning in Memphis in February 2016.\"),\n",
              " (0.0027158442583907127, '6 Marin Cilic in the second round.'),\n",
              " (0.0027158442583907127, \"'No, not at all.\"),\n",
              " (0.0027158442583907127,\n",
              "  '\"We also had the impression that at this stage it might be better to play matches than to train.'),\n",
              " (0.0027158442583907127,\n",
              "  '\"They only left me three days to decide\", Federer said.'),\n",
              " (0.0027158442583907127,\n",
              "  '\"There are very touching moments: seeing the ball children, the standing ovations, all the familiar faces in the audience.'),\n",
              " (0.0027158442583907127,\n",
              "  '\"On Tuesday I will fly to Paris and train in the afternoon to be ready for my first match on Wednesday night.'),\n",
              " (0.0027158442583907127,\n",
              "  '\"On Monday, I am free and will look how I feel,\" Federer said after winning the Swiss Indoors.'),\n",
              " (0.0027158442583907127,\n",
              "  '\"Not always, but I really feel like in the mid-2000 years there was a huge shift of the attitudes of the top players and being more friendly and being more giving, and a lot of that had to do with players like Roger coming up.'),\n",
              " (0.0027158442583907127,\n",
              "  '\"My children, my parents, my sister and my team are all there,\" Federer added.'),\n",
              " (0.0027158442583907127,\n",
              "  '\"Maybe I should celebrate as if it were my last title.'),\n",
              " (0.0027158442583907127,\n",
              "  '\"It\\'s a very pleasant atmosphere, I\\'d have to say, around the locker rooms.'),\n",
              " (0.0027158442583907127,\n",
              "  '\"It seems pretty friendly right now,\" said Davenport.'),\n",
              " (0.0027158442583907127, '\"It means the world to me.'),\n",
              " (0.0027158442583907127,\n",
              "  '\"It is always very emotional for me to thank my team.'),\n",
              " (0.0027158442583907127,\n",
              "  '\"I think there is a really nice environment and a great atmosphere, especially between some of the veteran players helping some of the younger players out.'),\n",
              " (0.0027158442583907127,\n",
              "  '\"I think I was misfiring the corners, I was not hitting the lines enough.'),\n",
              " (0.0027158442583907127,\n",
              "  '\"I just felt like it really kind of changed where people were a little bit, definitely in the 90s, a lot more quiet, into themselves, and then it started to become better.\"'),\n",
              " (0.0027158442583907127, '\"I highly doubt it, of course.'),\n",
              " (0.0027158442583907127,\n",
              "  '\"I felt like the best weeks that I had to get to know players when I was playing were the Fed Cup weeks or the Olympic weeks, not necessarily during the tournaments.'),\n",
              " (0.0027158442583907127, '\"I felt good all week and better every day.'),\n",
              " (0.0027158442583907127,\n",
              "  '\"I don\\'t like being under that kind of pressure,\" Federer said of the deadline Kosmos handed him.'),\n",
              " (0.0027158442583907127, '\"I do not think this was designed for me, anyhow.'),\n",
              " (0.0027158442583907127,\n",
              "  '\"I do not know if it\\'s maybe my last title, so today I try a lot more to absorb that and enjoy the moments much more consciously.'),\n",
              " (0.0027158442583907127,\n",
              "  '\"I didn\\'t to have time to consult with all the people I had to consult.'),\n",
              " (0.0027158442583907127,\n",
              "  '\"I didn\\'t serve very well [against first-round opponent Filip Kranjovic,\" Federer said.'),\n",
              " (0.0027158442583907127,\n",
              "  '\"I could not make a decision in that time, so I told them to do what they wanted.\"'),\n",
              " (0.0027158442583907127,\n",
              "  '\"Clearly you make your life more difficult, but still I was up 6-2, 3-1, break points, so things could have ended very quickly today, even though I didn\\'t have the best serve percentage stats.'),\n",
              " (0.0027158442583907127,\n",
              "  '\"But maybe that\\'s exactly what caught up to me eventually.'),\n",
              " (0.0027158442583907127,\n",
              "  '\"And even though maybe we had smaller teams, I still think we kept to ourselves quite a bit.'),\n",
              " (0.0027158442583907127, '\"And as long as I fear no injury, I play.\"')]"
            ]
          },
          "metadata": {},
          "execution_count": 71
        }
      ]
    },
    {
      "cell_type": "code",
      "metadata": {
        "colab": {
          "base_uri": "https://localhost:8080/"
        },
        "id": "49XTKAIALCpF",
        "outputId": "4545c521-abe7-4d87-980d-d2bc79b79362"
      },
      "source": [
        "\n",
        "# Specify number of sentences to form the summary\n",
        "sn = 10\n",
        "\n",
        "# Generate summary\n",
        "for i in range(sn):\n",
        "  print(f\"{i}.{ranked_sentences[i][1]}\")"
      ],
      "execution_count": null,
      "outputs": [
        {
          "output_type": "stream",
          "name": "stdout",
          "text": [
            "0.Federer's success in Basel last week was the ninth time he has won his hometown tournament.\n",
            "1.Federer won the Swiss Indoors last week by beating Romanian qualifier Marius Copil in the final.\n",
            "2.Federer has been handed a difficult draw where could could come across Kevin Anderson, Novak Djokovic and Rafael Nadal in the latter rounds.\n",
            "3.Federer, 37, first broke through on tour over two decades ago and he has since gone on to enjoy a glittering career.\n",
            "4.Federer's projected route to the Paris final could also lead to matches against Kevin Anderson and Novak Djokovic.\n",
            "5.Federer said earlier this month in Shanghai in that his chances of playing the Davis Cup were all but non-existent.\n",
            "6.Federer is in action at the Swiss Indoors in Basel and if he reaches the final, he could pull out of Paris in a bid to stay fresh for London.\n",
            "7.Federer had an easier time than in his only previous match against Medvedev, a three-setter at Shanghai two weeks ago.\n",
            "8.Federer dominated the 20th-ranked Medvedev and had his first match-point chance to break serve again at 5-1.\n",
            "9.He used his first break point to close out the first set before going up 3-0 in the second and wrapping up the win on his first match point.\n"
          ]
        }
      ]
    }
  ]
}